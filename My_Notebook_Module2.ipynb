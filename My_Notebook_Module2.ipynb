{
 "cells": [
  {
   "cell_type": "markdown",
   "id": "115f7f95-42c5-4add-84d4-2a6fd762a199",
   "metadata": {
    "tags": []
   },
   "source": [
    "<h1>My Jupyter Notebook on IBM Watson Studio</h1>"
   ]
  },
  {
   "cell_type": "markdown",
   "id": "eb3a9c75-aceb-4559-858f-40291cdc57e4",
   "metadata": {},
   "source": [
    "<strong>Rafael Mendez</strong><br>\n",
    "Data Engineer"
   ]
  },
  {
   "cell_type": "markdown",
   "id": "8eae0eef-7a10-4d59-8f26-4dc11ffbd386",
   "metadata": {},
   "source": [
    "<em>I am interested in data science because I enjoy working with data to uncover insights.</em>"
   ]
  },
  {
   "cell_type": "markdown",
   "id": "9f7fb870-519e-4cb8-bb9f-a44c80ad03dc",
   "metadata": {},
   "source": [
    "<h3>The code below prints out a greeting using the pyton print function.</h3>"
   ]
  },
  {
   "cell_type": "code",
   "execution_count": 1,
   "id": "594a9a04-f654-43f4-890b-7270034f3ae7",
   "metadata": {},
   "outputs": [
    {
     "name": "stdout",
     "output_type": "stream",
     "text": [
      "Hello Reviewer\n"
     ]
    }
   ],
   "source": [
    "print('Hello Reviewer')"
   ]
  },
  {
   "cell_type": "markdown",
   "id": "cf24e85a-99f8-4006-b2e1-bad695a23d2f",
   "metadata": {},
   "source": [
    "Here is an example of a horizontal rule:<br>\n",
    "<hr>\n",
    "\n",
    "And a bulleted list:<br>\n",
    "<ol>\n",
    "    <li>Item one</li>\n",
    "    <li>Item two</li>\n",
    "    <li>Item three</li>\n",
    "</ol>\n",
    "<br>\n",
    "And a examle of a blockquote:<br>\n",
    "<blockquote cite=\"https://www.imdb.com/title/tt1017618/characters/nm0144657\">\n",
    "Aw, I have three kids and no money. Why can't I have no kids and three money?<br><br>\n",
    "    <em>-Homer Simpson<em>\n",
    "</blockquote>"
   ]
  },
  {
   "cell_type": "code",
   "execution_count": null,
   "id": "8214e7d2-1e96-40c1-b236-33943c75f8de",
   "metadata": {},
   "outputs": [],
   "source": []
  }
 ],
 "metadata": {
  "kernelspec": {
   "display_name": "Python 3 (ipykernel)",
   "language": "python",
   "name": "python3"
  },
  "language_info": {
   "codemirror_mode": {
    "name": "ipython",
    "version": 3
   },
   "file_extension": ".py",
   "mimetype": "text/x-python",
   "name": "python",
   "nbconvert_exporter": "python",
   "pygments_lexer": "ipython3",
   "version": "3.8.9"
  }
 },
 "nbformat": 4,
 "nbformat_minor": 5
}
